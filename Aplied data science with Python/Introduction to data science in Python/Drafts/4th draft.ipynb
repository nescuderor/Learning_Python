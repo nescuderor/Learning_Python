{
 "cells": [
  {
   "cell_type": "markdown",
   "metadata": {},
   "source": [
    "# Data Files and Summary Statistics"
   ]
  },
  {
   "cell_type": "code",
   "execution_count": 42,
   "metadata": {},
   "outputs": [
    {
     "data": {
      "text/plain": [
       "[{'': '1',\n",
       "  'manufacturer': 'audi',\n",
       "  'model': 'a4',\n",
       "  'displ': '1.8',\n",
       "  'year': '1999',\n",
       "  'cyl': '4',\n",
       "  'trans': 'auto(l5)',\n",
       "  'drv': 'f',\n",
       "  'cty': '18',\n",
       "  'hwy': '29',\n",
       "  'fl': 'p',\n",
       "  'class': 'compact'},\n",
       " {'': '2',\n",
       "  'manufacturer': 'audi',\n",
       "  'model': 'a4',\n",
       "  'displ': '1.8',\n",
       "  'year': '1999',\n",
       "  'cyl': '4',\n",
       "  'trans': 'manual(m5)',\n",
       "  'drv': 'f',\n",
       "  'cty': '21',\n",
       "  'hwy': '29',\n",
       "  'fl': 'p',\n",
       "  'class': 'compact'},\n",
       " {'': '3',\n",
       "  'manufacturer': 'audi',\n",
       "  'model': 'a4',\n",
       "  'displ': '2',\n",
       "  'year': '2008',\n",
       "  'cyl': '4',\n",
       "  'trans': 'manual(m6)',\n",
       "  'drv': 'f',\n",
       "  'cty': '20',\n",
       "  'hwy': '31',\n",
       "  'fl': 'p',\n",
       "  'class': 'compact'}]"
      ]
     },
     "execution_count": 42,
     "metadata": {},
     "output_type": "execute_result"
    }
   ],
   "source": [
    "import csv #Important library\n",
    "#Stablishing the floating point\n",
    "%precision 3 \n",
    "\n",
    "with open('mpg.csv') as csvfile:   #Opening the file and storing it by a variable name\n",
    "    mpg = list(csv.DictReader(csvfile)) #Method to use the output as dictionaries\n",
    "    \n",
    "mpg[:3]"
   ]
  },
  {
   "cell_type": "code",
   "execution_count": 43,
   "metadata": {},
   "outputs": [
    {
     "data": {
      "text/plain": [
       "234"
      ]
     },
     "execution_count": 43,
     "metadata": {},
     "output_type": "execute_result"
    }
   ],
   "source": [
    "len(mpg)"
   ]
  },
  {
   "cell_type": "code",
   "execution_count": 44,
   "metadata": {},
   "outputs": [
    {
     "data": {
      "text/plain": [
       "dict_keys(['', 'manufacturer', 'model', 'displ', 'year', 'cyl', 'trans', 'drv', 'cty', 'hwy', 'fl', 'class'])"
      ]
     },
     "execution_count": 44,
     "metadata": {},
     "output_type": "execute_result"
    }
   ],
   "source": [
    "mpg[0].keys() #Calling the keys of the file"
   ]
  },
  {
   "cell_type": "markdown",
   "metadata": {},
   "source": [
    "__Summary Statistics__\n",
    "\n",
    "Is necessary to transform the string values from the dictionary to numeric values to perform mathematical operations."
   ]
  },
  {
   "cell_type": "code",
   "execution_count": 45,
   "metadata": {},
   "outputs": [
    {
     "data": {
      "text/plain": [
       "16.859"
      ]
     },
     "execution_count": 45,
     "metadata": {},
     "output_type": "execute_result"
    }
   ],
   "source": [
    "'''Knowing the average city within the mpg list'''\n",
    "sum(float(d['cty']) for d in mpg) / len(mpg) #Compresed expression"
   ]
  },
  {
   "cell_type": "code",
   "execution_count": 46,
   "metadata": {},
   "outputs": [
    {
     "data": {
      "text/plain": [
       "23.440"
      ]
     },
     "execution_count": 46,
     "metadata": {},
     "output_type": "execute_result"
    }
   ],
   "source": [
    "'''Knowing the averago of the hwy(High way economy)'''\n",
    "sum(float(h['hwy']) for h in mpg) / len(mpg) #Compresed expression"
   ]
  },
  {
   "cell_type": "markdown",
   "metadata": {},
   "source": [
    "__Grouped calculus__\n",
    "\n",
    "We can group values and registers by the function set()"
   ]
  },
  {
   "cell_type": "code",
   "execution_count": 47,
   "metadata": {},
   "outputs": [
    {
     "name": "stdout",
     "output_type": "stream",
     "text": [
      "{'5', '8', '4', '6'}\n"
     ]
    }
   ],
   "source": [
    "#First we should know the labels \n",
    "cylinders = set(c['cyl'] for c in mpg)\n",
    "print(cylinders)"
   ]
  },
  {
   "cell_type": "code",
   "execution_count": 48,
   "metadata": {},
   "outputs": [
    {
     "data": {
      "text/plain": [
       "[('4', 21.012), ('5', 20.500), ('6', 16.215), ('8', 12.571)]"
      ]
     },
     "execution_count": 48,
     "metadata": {},
     "output_type": "execute_result"
    }
   ],
   "source": [
    "#Second we may create an empty list to append the touples\n",
    "CtyMpgByCyl = []\n",
    "\n",
    "#For each label\n",
    "for cylinder in cylinders:\n",
    "    summpg = 0\n",
    "    cyltypecount = 0\n",
    "    for register in mpg:\n",
    "        #Evaluating if every label is the same that the one within the register\n",
    "        if register['cyl'] == cylinder:\n",
    "            summpg += float(register['cty'])\n",
    "            cyltypecount += 1\n",
    "    CtyMpgByCyl.append((cylinder, summpg / cyltypecount))\n",
    "    \n",
    "CtyMpgByCyl.sort(key=lambda x: x[0])\n",
    "CtyMpgByCyl          "
   ]
  },
  {
   "cell_type": "code",
   "execution_count": 49,
   "metadata": {},
   "outputs": [
    {
     "data": {
      "text/plain": [
       "{'2seater', 'compact', 'midsize', 'minivan', 'pickup', 'subcompact', 'suv'}"
      ]
     },
     "execution_count": 49,
     "metadata": {},
     "output_type": "execute_result"
    }
   ],
   "source": [
    "'''Determining the high way mpg based on the vehicle class'''\n",
    "V_type = set(v['class'] for v in mpg)\n",
    "V_type"
   ]
  },
  {
   "cell_type": "code",
   "execution_count": 50,
   "metadata": {},
   "outputs": [
    {
     "data": {
      "text/plain": [
       "[('2seater', 24.800),\n",
       " ('compact', 28.298),\n",
       " ('midsize', 27.293),\n",
       " ('minivan', 22.364),\n",
       " ('pickup', 16.879),\n",
       " ('subcompact', 28.143),\n",
       " ('suv', 18.129)]"
      ]
     },
     "execution_count": 50,
     "metadata": {},
     "output_type": "execute_result"
    }
   ],
   "source": [
    "#Solving a group exercise\n",
    "HwyByClass = []\n",
    "\n",
    "for vehicle in V_type: #Iterating through the different vehicle classes\n",
    "    summhwy = 0\n",
    "    register_count = 0\n",
    "    for register in mpg: #Iterating through the different registers\n",
    "        if register['class'] == vehicle: #If the label and the class in the register matches then:\n",
    "            summhwy += float(register['hwy']) #Operating the hwy\n",
    "            register_count += 1\n",
    "    HwyByClass.append((vehicle, summhwy / register_count)) #Appending by (Vehicle class, average of each label)\n",
    "    \n",
    "#Sorting\n",
    "HwyByClass.sort(key=lambda y: y[0]) #Sorted by the name of the vehicle class\n",
    "HwyByClass\n"
   ]
  }
 ],
 "metadata": {
  "kernelspec": {
   "display_name": "Python 3",
   "language": "python",
   "name": "python3"
  },
  "language_info": {
   "codemirror_mode": {
    "name": "ipython",
    "version": 3
   },
   "file_extension": ".py",
   "mimetype": "text/x-python",
   "name": "python",
   "nbconvert_exporter": "python",
   "pygments_lexer": "ipython3",
   "version": "3.8.3"
  }
 },
 "nbformat": 4,
 "nbformat_minor": 4
}
